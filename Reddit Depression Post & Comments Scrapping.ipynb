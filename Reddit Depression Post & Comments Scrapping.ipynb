{
 "cells": [
  {
   "cell_type": "code",
   "execution_count": 1,
   "id": "670df958",
   "metadata": {},
   "outputs": [],
   "source": [
    "# Importing necessary libraries\n",
    "\n",
    "import praw\n",
    "import pandas as pd"
   ]
  },
  {
   "cell_type": "code",
   "execution_count": 2,
   "id": "1caac5a8",
   "metadata": {},
   "outputs": [],
   "source": [
    "# Reddit API credentials\n",
    "\n",
    "reddit = praw.Reddit(client_id=\"*****\",               # your client id\n",
    "                     client_secret= \"*****\",          # your client secret\n",
    "                     user_agent= \"*****\")             # your user agent"
   ]
  },
  {
   "cell_type": "code",
   "execution_count": 3,
   "id": "8b6f23f6",
   "metadata": {},
   "outputs": [],
   "source": [
    "# Subreddit to scrape\n",
    "\n",
    "subreddit = reddit.subreddit('depression')"
   ]
  },
  {
   "cell_type": "code",
   "execution_count": 4,
   "id": "a8df0f58",
   "metadata": {},
   "outputs": [],
   "source": [
    "# Define lists to store data\n",
    "\n",
    "data = []"
   ]
  },
  {
   "cell_type": "code",
   "execution_count": 5,
   "id": "1f414b19",
   "metadata": {},
   "outputs": [],
   "source": [
    "# Scraping posts & Comments\n",
    "\n",
    "for post in subreddit.hot(limit= None): \n",
    "    data.append({\n",
    "        'Type': 'Post',\n",
    "        'Post_id': post.id,\n",
    "        'Title': post.title,\n",
    "        'Author': post.author.name if post.author else 'Unknown',\n",
    "        'Timestamp': pd.to_datetime(post.created_utc, unit='s'), # Convert timestamp to datetime\n",
    "        'Text': post.selftext,\n",
    "        'Score': post.score,\n",
    "        'Total_comments': post.num_comments\n",
    "    })\n",
    "\n",
    "    # Check if the post has comments\n",
    "    if post.num_comments > 0:\n",
    "        # Scraping comments for each post\n",
    "        post.comments.replace_more(limit= None)\n",
    "        for comment in post.comments.list():\n",
    "            data.append({\n",
    "                'Type': 'Comment',\n",
    "                'Post_id': post.id,\n",
    "                'Title': post.title,\n",
    "                'Author': comment.author.name if comment.author else 'Unknown',\n",
    "                'Timestamp': pd.to_datetime(comment.created_utc, unit='s'),\n",
    "                'Text': comment.body,\n",
    "                'Score': comment.score,\n",
    "                'Total_comments': 0  # Comments don't have total comments attribute\n",
    "            })\n"
   ]
  },
  {
   "cell_type": "code",
   "execution_count": 6,
   "id": "b82188b6",
   "metadata": {},
   "outputs": [],
   "source": [
    "# Create pandas DataFrame for posts and comments\n",
    "\n",
    "reddit_depression_df = pd.DataFrame(data)"
   ]
  },
  {
   "cell_type": "code",
   "execution_count": 7,
   "id": "a3e7a434",
   "metadata": {},
   "outputs": [
    {
     "data": {
      "text/html": [
       "<div>\n",
       "<style scoped>\n",
       "    .dataframe tbody tr th:only-of-type {\n",
       "        vertical-align: middle;\n",
       "    }\n",
       "\n",
       "    .dataframe tbody tr th {\n",
       "        vertical-align: top;\n",
       "    }\n",
       "\n",
       "    .dataframe thead th {\n",
       "        text-align: right;\n",
       "    }\n",
       "</style>\n",
       "<table border=\"1\" class=\"dataframe\">\n",
       "  <thead>\n",
       "    <tr style=\"text-align: right;\">\n",
       "      <th></th>\n",
       "      <th>Type</th>\n",
       "      <th>Post_id</th>\n",
       "      <th>Title</th>\n",
       "      <th>Author</th>\n",
       "      <th>Timestamp</th>\n",
       "      <th>Text</th>\n",
       "      <th>Score</th>\n",
       "      <th>Total_comments</th>\n",
       "    </tr>\n",
       "  </thead>\n",
       "  <tbody>\n",
       "    <tr>\n",
       "      <th>0</th>\n",
       "      <td>Post</td>\n",
       "      <td>doqwow</td>\n",
       "      <td>Our most-broken and least-understood rules is ...</td>\n",
       "      <td>SQLwitch</td>\n",
       "      <td>2019-10-29 14:52:02</td>\n",
       "      <td>We understand that most people who reply immed...</td>\n",
       "      <td>2364</td>\n",
       "      <td>177</td>\n",
       "    </tr>\n",
       "    <tr>\n",
       "      <th>1</th>\n",
       "      <td>Comment</td>\n",
       "      <td>doqwow</td>\n",
       "      <td>Our most-broken and least-understood rules is ...</td>\n",
       "      <td>scorpiontank27</td>\n",
       "      <td>2019-10-29 15:53:38</td>\n",
       "      <td>Understood and I apologise if I forget in the ...</td>\n",
       "      <td>236</td>\n",
       "      <td>0</td>\n",
       "    </tr>\n",
       "    <tr>\n",
       "      <th>2</th>\n",
       "      <td>Comment</td>\n",
       "      <td>doqwow</td>\n",
       "      <td>Our most-broken and least-understood rules is ...</td>\n",
       "      <td>Unknown</td>\n",
       "      <td>2019-10-29 15:53:39</td>\n",
       "      <td>[removed]</td>\n",
       "      <td>63</td>\n",
       "      <td>0</td>\n",
       "    </tr>\n",
       "    <tr>\n",
       "      <th>3</th>\n",
       "      <td>Comment</td>\n",
       "      <td>doqwow</td>\n",
       "      <td>Our most-broken and least-understood rules is ...</td>\n",
       "      <td>BloodyClash1133</td>\n",
       "      <td>2019-11-02 10:11:35</td>\n",
       "      <td>Biggest Problem on private talks may be that y...</td>\n",
       "      <td>49</td>\n",
       "      <td>0</td>\n",
       "    </tr>\n",
       "    <tr>\n",
       "      <th>4</th>\n",
       "      <td>Comment</td>\n",
       "      <td>doqwow</td>\n",
       "      <td>Our most-broken and least-understood rules is ...</td>\n",
       "      <td>Unknown</td>\n",
       "      <td>2019-10-29 15:43:23</td>\n",
       "      <td>I have to agree with this. I know that people ...</td>\n",
       "      <td>48</td>\n",
       "      <td>0</td>\n",
       "    </tr>\n",
       "  </tbody>\n",
       "</table>\n",
       "</div>"
      ],
      "text/plain": [
       "      Type Post_id                                              Title  \\\n",
       "0     Post  doqwow  Our most-broken and least-understood rules is ...   \n",
       "1  Comment  doqwow  Our most-broken and least-understood rules is ...   \n",
       "2  Comment  doqwow  Our most-broken and least-understood rules is ...   \n",
       "3  Comment  doqwow  Our most-broken and least-understood rules is ...   \n",
       "4  Comment  doqwow  Our most-broken and least-understood rules is ...   \n",
       "\n",
       "            Author           Timestamp  \\\n",
       "0         SQLwitch 2019-10-29 14:52:02   \n",
       "1   scorpiontank27 2019-10-29 15:53:38   \n",
       "2          Unknown 2019-10-29 15:53:39   \n",
       "3  BloodyClash1133 2019-11-02 10:11:35   \n",
       "4          Unknown 2019-10-29 15:43:23   \n",
       "\n",
       "                                                Text  Score  Total_comments  \n",
       "0  We understand that most people who reply immed...   2364             177  \n",
       "1  Understood and I apologise if I forget in the ...    236               0  \n",
       "2                                          [removed]     63               0  \n",
       "3  Biggest Problem on private talks may be that y...     49               0  \n",
       "4  I have to agree with this. I know that people ...     48               0  "
      ]
     },
     "execution_count": 7,
     "metadata": {},
     "output_type": "execute_result"
    }
   ],
   "source": [
    "reddit_depression_df.head()"
   ]
  },
  {
   "cell_type": "code",
   "execution_count": 8,
   "id": "4d05f29b",
   "metadata": {},
   "outputs": [
    {
     "data": {
      "text/plain": [
       "(3859, 8)"
      ]
     },
     "execution_count": 8,
     "metadata": {},
     "output_type": "execute_result"
    }
   ],
   "source": [
    "reddit_depression_df.shape"
   ]
  },
  {
   "cell_type": "code",
   "execution_count": 9,
   "id": "dca8b3c1",
   "metadata": {},
   "outputs": [],
   "source": [
    "# Save DataFrame as JSON\n",
    "\n",
    "reddit_depression_df.to_json('Reddit_depression_df.json', orient='records', lines=True)"
   ]
  }
 ],
 "metadata": {
  "kernelspec": {
   "display_name": "Python 3 (ipykernel)",
   "language": "python",
   "name": "python3"
  },
  "language_info": {
   "codemirror_mode": {
    "name": "ipython",
    "version": 3
   },
   "file_extension": ".py",
   "mimetype": "text/x-python",
   "name": "python",
   "nbconvert_exporter": "python",
   "pygments_lexer": "ipython3",
   "version": "3.11.5"
  }
 },
 "nbformat": 4,
 "nbformat_minor": 5
}
