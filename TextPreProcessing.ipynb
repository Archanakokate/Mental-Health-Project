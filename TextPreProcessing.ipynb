{
 "cells": [
  {
   "cell_type": "code",
   "execution_count": null,
   "id": "6b2b7f5c",
   "metadata": {},
   "outputs": [],
   "source": [
    "# !pip install spacy\n",
    "# !python -m spacy download en_core_web_sm"
   ]
  },
  {
   "cell_type": "code",
   "execution_count": null,
   "id": "3977a893",
   "metadata": {},
   "outputs": [],
   "source": [
    "# nltk.download('punkt')"
   ]
  },
  {
   "cell_type": "code",
   "execution_count": null,
   "id": "8806a36c",
   "metadata": {},
   "outputs": [],
   "source": [
    "import json\n",
    "import re\n",
    "import spacy\n",
    "import nltk\n",
    "from nltk.stem import PorterStemmer\n",
    "from nltk.tokenize import word_tokenize\n",
    "from sklearn.feature_extraction.text import TfidfVectorizer"
   ]
  },
  {
   "cell_type": "code",
   "execution_count": 3,
   "id": "ee5fb06e",
   "metadata": {},
   "outputs": [],
   "source": [
    "# Load data from JSON file\n",
    "\n",
    "with open('r_anxietyDepression.json', 'r') as f:\n",
    "    data = json.load(f)"
   ]
  },
  {
   "cell_type": "code",
   "execution_count": 4,
   "id": "d7e648a1",
   "metadata": {},
   "outputs": [],
   "source": [
    "# Initialize lists to store post titles, comments, and authors\n",
    "\n",
    "post_titles = []\n",
    "comments = []\n",
    "authors = []"
   ]
  },
  {
   "cell_type": "code",
   "execution_count": 5,
   "id": "b2d04838",
   "metadata": {},
   "outputs": [],
   "source": [
    "# Extract relevant information from JSON data\n",
    "\n",
    "for post in data:\n",
    "    post_titles.append(post['title'])\n",
    "    for comment in post['comments']:\n",
    "        if comment['body'] != \"[deleted]\":  # Ignore deleted comments\n",
    "            comments.append(comment['body'])\n",
    "            authors.append(comment['author'] if comment['author'] else \"Unknown\")"
   ]
  },
  {
   "cell_type": "code",
   "execution_count": 6,
   "id": "c3d7a6e3",
   "metadata": {},
   "outputs": [],
   "source": [
    "# Function to clean text data\n",
    "\n",
    "def clean_text(text):\n",
    "    text = re.sub(r'\\[.*?\\]', '', text)                # Remove square brackets and everything within them\n",
    "    text = re.sub(r'https?://\\S+|www\\.\\S+', '', text)  # Remove URLs\n",
    "    text = re.sub(r'\\n', ' ', text)                    # Remove newline characters\n",
    "    text = re.sub(r'[^A-Za-z0-9]+', ' ', text)         # Remove special characters except alphanumericand emojis\n",
    "    text = text.lower()                                # Convert text to lowercase\n",
    "        \n",
    "    # Emoticons and emojis can convey sentiment. Replace them with textual representations.\n",
    "    # Example: 😊 -> \"smile\"\n",
    "    # Depending on the emoticons and emojis you want to handle, you can add more replacements here.\n",
    "    # text = re.sub(r':\\)', ' smile ', text)  # Example replacement for :) to \"smile\"\n",
    "    # text = re.sub(r':\\(', ' frown ', text)  # Example replacement for :( to \"frown\"\n",
    "    \n",
    "    return text"
   ]
  },
  {
   "cell_type": "code",
   "execution_count": 7,
   "id": "b8da8179",
   "metadata": {},
   "outputs": [],
   "source": [
    "comments_cleaned = [clean_text(comment) for comment in comments]"
   ]
  },
  {
   "cell_type": "code",
   "execution_count": 8,
   "id": "870851e2",
   "metadata": {},
   "outputs": [
    {
     "data": {
      "text/plain": [
       "['nice to see people not getting stopped by their mental state and just pursuing what makes then happy anyways congrats ',\n",
       " 'glowing congrats and you look great ',\n",
       " 'nawww congratulations you look absolutely stunning ',\n",
       " 'you look beautiful happy and confident congratulations on your marriage ',\n",
       " 'i am love with your look classy elegant ',\n",
       " 'i absolutely love your look it s retro and classy but you add some uniqueness with your shoes you look happy and like you know yourself and are not afraid to be your own person congratulations ',\n",
       " 'yes yes you were ',\n",
       " 'congratulations i love your shoes and dress but i especially love your attitude hope you had an amazing day ',\n",
       " 'you look amazing i wish you and your husband or wife the best of luck',\n",
       " 'you look great and i love your shoes omg do you have more photos i d love to see ',\n",
       " 'congratulations you look stunning btw',\n",
       " 'wow you look so beautiful your dress is perfect ',\n",
       " 'you sure were congratulations to you ',\n",
       " 'wow you look absolutely gorgeous whoever was meeting you at the altar is certainly lucky to have you in their life i wish only the best of times for you both as you take off on this next stage of life those shoes are awesome too btw ',\n",
       " 'congrats ',\n",
       " 'congrats ',\n",
       " 'you look amazing ',\n",
       " 'yay ',\n",
       " 'congratulations so happy for you i hope i can follow in your foot steps as well',\n",
       " 'good for you whenever i see something with anxiety crack a smile i have to upvote ',\n",
       " 'dig the shirt',\n",
       " 'hope the meet up went well proud to see you breaking outta your shell ',\n",
       " 'as a woman who suffers from anxiety i really want to meet more women like you who have anxiety and are working hard every day to overcome it it s probably most definitely my own mind making me think i m the only one who feels this way and everyone else is anxiety free and calm around me so it s nice and encouraging to see someone else like me taking control and saying not today to anxiety way to go girl ',\n",
       " 'treating yourself to something wonderful for overcoming something that s anxiety inducing just gave me so much hope never thought of doing something like this thanks for inspiring me ',\n",
       " 'awww you are so awesome too bad those bacon and eggs weren t on a bagel maybe next reward ',\n",
       " 'good shit ',\n",
       " 'your smile is so cute proud of you ',\n",
       " 'way to go 😊 that s wonderful ',\n",
       " 'that s super awesome you attended this week you should be proud of yourself also that is a sweet dbz shirt ',\n",
       " 'what a beautiful genuine smile i love the color of your cardigan',\n",
       " 'this sub is awesome edit my hands are up and waiting anxiously for the spirit bomb ',\n",
       " 'nice tits',\n",
       " 'fry the bacon longer it doesn t look crispy ',\n",
       " 'that s a good idea ',\n",
       " 'seeing your smile made me smile congratulations on your progress ',\n",
       " 'the meal looks delicious and you look great ',\n",
       " 'your smile made me smile well done ',\n",
       " 'boom congrats that s a big achievement ']"
      ]
     },
     "execution_count": 8,
     "metadata": {},
     "output_type": "execute_result"
    }
   ],
   "source": [
    "comments_cleaned"
   ]
  },
  {
   "cell_type": "markdown",
   "id": "59779dc0",
   "metadata": {},
   "source": [
    "#### Stemming"
   ]
  },
  {
   "cell_type": "code",
   "execution_count": 9,
   "id": "74bdb4af",
   "metadata": {},
   "outputs": [],
   "source": [
    "# Initialize the PorterStemmer\n",
    "stemmer = PorterStemmer()\n",
    "\n",
    "# Tokenize and stem the text data\n",
    "def stem_text(text):\n",
    "    tokens = word_tokenize(text)\n",
    "    stemmed_tokens = [stemmer.stem(token) for token in tokens]\n",
    "    return ' '.join(stemmed_tokens)\n",
    "\n",
    "\n",
    "# Apply stemming to comments\n",
    "comments_stemmed = [stem_text(comment) for comment in comments_cleaned]"
   ]
  },
  {
   "cell_type": "code",
   "execution_count": 10,
   "id": "bda2e9b4",
   "metadata": {},
   "outputs": [
    {
     "data": {
      "text/plain": [
       "['nice to see peopl not get stop by their mental state and just pursu what make then happi anyway congrat',\n",
       " 'glow congrat and you look great',\n",
       " 'nawww congratul you look absolut stun',\n",
       " 'you look beauti happi and confid congratul on your marriag',\n",
       " 'i am love with your look classi eleg',\n",
       " 'i absolut love your look it s retro and classi but you add some uniqu with your shoe you look happi and like you know yourself and are not afraid to be your own person congratul',\n",
       " 'ye ye you were',\n",
       " 'congratul i love your shoe and dress but i especi love your attitud hope you had an amaz day',\n",
       " 'you look amaz i wish you and your husband or wife the best of luck',\n",
       " 'you look great and i love your shoe omg do you have more photo i d love to see',\n",
       " 'congratul you look stun btw',\n",
       " 'wow you look so beauti your dress is perfect',\n",
       " 'you sure were congratul to you',\n",
       " 'wow you look absolut gorgeou whoever wa meet you at the altar is certainli lucki to have you in their life i wish onli the best of time for you both as you take off on thi next stage of life those shoe are awesom too btw',\n",
       " 'congrat',\n",
       " 'congrat',\n",
       " 'you look amaz',\n",
       " 'yay',\n",
       " 'congratul so happi for you i hope i can follow in your foot step as well',\n",
       " 'good for you whenev i see someth with anxieti crack a smile i have to upvot',\n",
       " 'dig the shirt',\n",
       " 'hope the meet up went well proud to see you break outta your shell',\n",
       " 'as a woman who suffer from anxieti i realli want to meet more women like you who have anxieti and are work hard everi day to overcom it it s probabl most definit my own mind make me think i m the onli one who feel thi way and everyon els is anxieti free and calm around me so it s nice and encourag to see someon els like me take control and say not today to anxieti way to go girl',\n",
       " 'treat yourself to someth wonder for overcom someth that s anxieti induc just gave me so much hope never thought of do someth like thi thank for inspir me',\n",
       " 'awww you are so awesom too bad those bacon and egg weren t on a bagel mayb next reward',\n",
       " 'good shit',\n",
       " 'your smile is so cute proud of you',\n",
       " 'way to go 😊 that s wonder',\n",
       " 'that s super awesom you attend thi week you should be proud of yourself also that is a sweet dbz shirt',\n",
       " 'what a beauti genuin smile i love the color of your cardigan',\n",
       " 'thi sub is awesom edit my hand are up and wait anxious for the spirit bomb',\n",
       " 'nice tit',\n",
       " 'fri the bacon longer it doesn t look crispi',\n",
       " 'that s a good idea',\n",
       " 'see your smile made me smile congratul on your progress',\n",
       " 'the meal look delici and you look great',\n",
       " 'your smile made me smile well done',\n",
       " 'boom congrat that s a big achiev']"
      ]
     },
     "execution_count": 10,
     "metadata": {},
     "output_type": "execute_result"
    }
   ],
   "source": [
    "comments_stemmed"
   ]
  },
  {
   "cell_type": "markdown",
   "id": "229c552a",
   "metadata": {},
   "source": [
    "#### Lemmatization"
   ]
  },
  {
   "cell_type": "code",
   "execution_count": 14,
   "id": "711cb177",
   "metadata": {},
   "outputs": [],
   "source": [
    "# Load spaCy's English tokenizer for lemmatization\n",
    "nlp = spacy.load(\"en_core_web_sm\")\n",
    "\n",
    "# Lemmatize the text data\n",
    "def lemmatize_text(text):\n",
    "    doc = nlp(text)\n",
    "    lemmatized_tokens = [token.lemma_ for token in doc]\n",
    "    return ' '.join(lemmatized_tokens)\n",
    "\n",
    "\n",
    "# Apply lemmatization to comments\n",
    "comments_lemmatized = [lemmatize_text(comment) for comment in comments_cleaned]"
   ]
  },
  {
   "cell_type": "code",
   "execution_count": 15,
   "id": "71ccfb78",
   "metadata": {},
   "outputs": [
    {
     "data": {
      "text/plain": [
       "['nice to see people not getting stop by their mental state and just pursue what make then happy anyways congrat',\n",
       " 'glow congrat and you look great',\n",
       " 'nawww congratulation you look absolutely stunning',\n",
       " 'you look beautiful happy and confident congratulation on your marriage',\n",
       " 'I be love with your look classy elegant',\n",
       " 'I absolutely love your look it s retro and classy but you add some uniqueness with your shoe you look happy and like you know yourself and be not afraid to be your own person congratulation',\n",
       " 'yes yes you be',\n",
       " 'congratulation I love your shoe and dress but I especially love your attitude hope you have an amazing day',\n",
       " 'you look amazing I wish you and your husband or wife the good of luck',\n",
       " 'you look great and I love your shoe omg do you have more photo I d love to see',\n",
       " 'congratulation you look stunning btw',\n",
       " 'wow you look so beautiful your dress be perfect',\n",
       " 'you sure be congratulation to you',\n",
       " 'wow you look absolutely gorgeous whoever be meet you at the altar be certainly lucky to have you in their life I wish only the good of time for you both as you take off on this next stage of life those shoe be awesome too btw',\n",
       " 'congrat',\n",
       " 'congrat',\n",
       " 'you look amazing',\n",
       " 'yay',\n",
       " 'congratulation so happy for you I hope I can follow in your foot step as well',\n",
       " 'good for you whenever I see something with anxiety crack a smile I have to upvote',\n",
       " 'dig the shirt',\n",
       " 'hope the meet up go well proud to see you break outta your shell',\n",
       " 'as a woman who suffer from anxiety I really want to meet more woman like you who have anxiety and be work hard every day to overcome it it s probably most definitely my own mind make I think I m the only one who feel this way and everyone else be anxiety free and calm around I so it s nice and encouraging to see someone else like I take control and say not today to anxiety way to go girl',\n",
       " 'treat yourself to something wonderful for overcome something that s anxiety induce just give I so much hope never think of do something like this thank for inspire I',\n",
       " 'awww you be so awesome too bad those bacon and egg weren t on a bagel maybe next reward',\n",
       " 'good shit',\n",
       " 'your smile be so cute proud of you',\n",
       " 'way to go 😊 that s wonderful',\n",
       " 'that s super awesome you attend this week you should be proud of yourself also that be a sweet dbz shirt',\n",
       " 'what a beautiful genuine smile I love the color of your cardigan',\n",
       " 'this sub be awesome edit my hand be up and wait anxiously for the spirit bomb',\n",
       " 'nice tit',\n",
       " 'fry the bacon long it doesn t look crispy',\n",
       " 'that s a good idea',\n",
       " 'see your smile make I smile congratulation on your progress',\n",
       " 'the meal look delicious and you look great',\n",
       " 'your smile make I smile well do',\n",
       " 'boom congrat that s a big achievement']"
      ]
     },
     "execution_count": 15,
     "metadata": {},
     "output_type": "execute_result"
    }
   ],
   "source": [
    "comments_lemmatized"
   ]
  },
  {
   "cell_type": "code",
   "execution_count": 16,
   "id": "8bd622c6",
   "metadata": {},
   "outputs": [],
   "source": [
    "# Vectorize the text data\n",
    "\n",
    "vectorizer = TfidfVectorizer(max_features=5000)  # Adjust max_features as needed\n",
    "\n",
    "X = vectorizer.fit_transform(comments_lemmatized)"
   ]
  },
  {
   "cell_type": "code",
   "execution_count": 18,
   "id": "6ef5f8a2",
   "metadata": {},
   "outputs": [
    {
     "name": "stdout",
     "output_type": "stream",
     "text": [
      "[[0.         0.         0.         ... 0.         0.         0.        ]\n",
      " [0.         0.         0.         ... 0.23167937 0.         0.        ]\n",
      " [0.45505406 0.         0.         ... 0.21834693 0.         0.        ]\n",
      " ...\n",
      " [0.         0.         0.         ... 0.1860261  0.         0.        ]\n",
      " [0.         0.         0.         ... 0.         0.24569473 0.        ]\n",
      " [0.         0.49712949 0.         ... 0.         0.         0.        ]]\n"
     ]
    }
   ],
   "source": [
    "# Print the vectorized output\n",
    "print(X.toarray())"
   ]
  },
  {
   "cell_type": "code",
   "execution_count": null,
   "id": "b13dc454",
   "metadata": {},
   "outputs": [],
   "source": []
  }
 ],
 "metadata": {
  "kernelspec": {
   "display_name": "Python 3 (ipykernel)",
   "language": "python",
   "name": "python3"
  },
  "language_info": {
   "codemirror_mode": {
    "name": "ipython",
    "version": 3
   },
   "file_extension": ".py",
   "mimetype": "text/x-python",
   "name": "python",
   "nbconvert_exporter": "python",
   "pygments_lexer": "ipython3",
   "version": "3.11.5"
  }
 },
 "nbformat": 4,
 "nbformat_minor": 5
}
