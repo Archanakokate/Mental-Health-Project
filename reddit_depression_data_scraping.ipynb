{
 "cells": [
  {
   "cell_type": "code",
   "execution_count": 1,
   "id": "c6d11528",
   "metadata": {},
   "outputs": [],
   "source": [
    "import praw\n",
    "import pandas as pd\n",
    "import json \n",
    "import time"
   ]
  },
  {
   "cell_type": "code",
   "execution_count": 2,
   "id": "bf893e8e",
   "metadata": {},
   "outputs": [],
   "source": [
    "# Reddit API credentials\n",
    "\n",
    "reddit = praw.Reddit(client_id=\"*****\",               # your client id\n",
    "                     client_secret= \"*****\",  # your client secret\n",
    "                     user_agent= \"*****\")                          # your user agent"
   ]
  },
  {
   "cell_type": "code",
   "execution_count": 3,
   "id": "f862a5b3",
   "metadata": {},
   "outputs": [],
   "source": [
    "# Subreddit to scrape\n",
    "\n",
    "subreddit = reddit.subreddit('depression')"
   ]
  },
  {
   "cell_type": "code",
   "execution_count": 4,
   "id": "3896d091",
   "metadata": {},
   "outputs": [],
   "source": [
    "# Define a function to recursively fetch replies for a comment\n",
    "\n",
    "def fetch_replies(comment, limit=5):\n",
    "    replies_data = []\n",
    "    for reply in comment.replies[:limit]:  # Limit the number of replies\n",
    "        reply_data = {\n",
    "            'comment_id': reply.id,\n",
    "            'author': reply.author.name if reply.author else None,\n",
    "            'timestamp': reply.created_utc,\n",
    "            'body': reply.body,\n",
    "            'replies': fetch_replies(reply, limit)  # Recursively fetch replies for each reply\n",
    "        }\n",
    "        replies_data.append(reply_data)\n",
    "    return replies_data"
   ]
  },
  {
   "cell_type": "code",
   "execution_count": 5,
   "id": "ec48203b",
   "metadata": {},
   "outputs": [],
   "source": [
    "# Define a function to fetch data with a delay between requests\n",
    "\n",
    "def fetch_data_with_delay(limit=None, delay=2, reply_limit=5):\n",
    "    posts_data = []\n",
    "    for post in subreddit.top(limit=limit):\n",
    "        # Fetch post data\n",
    "        post_data = {\n",
    "            'post_id': post.id,\n",
    "            'title': post.title,\n",
    "            'author': post.author.name if post.author else None,\n",
    "            'timestamp': post.created_utc,\n",
    "            'body': post.selftext,\n",
    "            'score': post.score,\n",
    "            'downs': post.downs,\n",
    "            'total_comments': post.num_comments,\n",
    "            'comments': []  \n",
    "        }\n",
    "        # Fetch comments for the post\n",
    "        post.comments.replace_more(limit=10)\n",
    "        for comment in post.comments:\n",
    "            # Fetch comment data\n",
    "            comment_data = {\n",
    "                'comment_id': comment.id,\n",
    "                'author': comment.author.name if comment.author else None,\n",
    "                'timestamp': comment.created_utc,\n",
    "                'body': comment.body,\n",
    "                'replies': fetch_replies(comment, limit=reply_limit)  # Limit replies for the comment\n",
    "            }\n",
    "            post_data['comments'].append(comment_data)\n",
    "        posts_data.append(post_data)\n",
    "        time.sleep(delay)  # Add delay between requests\n",
    "    return posts_data"
   ]
  },
  {
   "cell_type": "code",
   "execution_count": 8,
   "id": "e6a728df",
   "metadata": {},
   "outputs": [],
   "source": [
    "# Fetch data with a delay of 2 seconds between requests and a limit of 5 replies per comment\n",
    "\n",
    "data = fetch_data_with_delay(limit=None, delay=2, reply_limit=5)"
   ]
  },
  {
   "cell_type": "code",
   "execution_count": 9,
   "id": "6ba5391b",
   "metadata": {},
   "outputs": [],
   "source": [
    "# Save data as JSON\n",
    "with open('top_depression.json', 'w') as f:\n",
    "   json.dump(data, f, indent=2)"
   ]
  }
 ],
 "metadata": {
  "kernelspec": {
   "display_name": "Python 3 (ipykernel)",
   "language": "python",
   "name": "python3"
  },
  "language_info": {
   "codemirror_mode": {
    "name": "ipython",
    "version": 3
   },
   "file_extension": ".py",
   "mimetype": "text/x-python",
   "name": "python",
   "nbconvert_exporter": "python",
   "pygments_lexer": "ipython3",
   "version": "3.11.5"
  }
 },
 "nbformat": 4,
 "nbformat_minor": 5
}
